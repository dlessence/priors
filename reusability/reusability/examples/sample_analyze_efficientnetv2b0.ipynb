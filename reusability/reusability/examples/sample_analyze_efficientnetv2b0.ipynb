{
 "cells": [
  {
   "cell_type": "code",
   "execution_count": 1,
   "metadata": {},
   "outputs": [],
   "source": [
    "%load_ext autoreload\n",
    "%autoreload 2"
   ]
  },
  {
   "cell_type": "raw",
   "metadata": {
    "scrolled": true,
    "pycharm": {
     "name": "#%% raw\n"
    }
   },
   "source": [
    "cd ../.."
   ]
  },
  {
   "cell_type": "raw",
   "metadata": {
    "pycharm": {
     "name": "#%% raw\n"
    }
   },
   "source": [
    "!pip install -e ."
   ]
  },
  {
   "cell_type": "code",
   "execution_count": 3,
   "metadata": {},
   "outputs": [],
   "source": [
    "from reusability.analysis.stat_summary import summarize_stats"
   ]
  },
  {
   "cell_type": "code",
   "execution_count": 4,
   "metadata": {},
   "outputs": [],
   "source": [
    "from reusability.examples.efficientnetv2_stats import estimate_efficientnet_v2_stats,estimate_depth_and_width_from_model_name"
   ]
  },
  {
   "cell_type": "code",
   "execution_count": 5,
   "metadata": {},
   "outputs": [],
   "source": [
    "def get_efficientnetv2_stat_summaries(**kwargs):\n",
    "    depth, width = estimate_depth_and_width_from_model_name(kwargs.get('model_name'))\n",
    "    stats = estimate_efficientnet_v2_stats(**kwargs)\n",
    "\n",
    "    nonshared_stats = summarize_stats(stats, dag=None,\n",
    "                                      ignore_suffix=False, dag_type='cnn',\n",
    "                                      kernel_size=3, width=width,\n",
    "                                      image_width=kwargs.get('default_size', None),\n",
    "                                      image_height=kwargs.get('default_size', None),\n",
    "                                      has_bias=False, depth=depth,\n",
    "                                      name='efficientnet_b0_stats_224')\n",
    "\n",
    "    shared_stats = summarize_stats(stats, dag=None,\n",
    "                                   ignore_suffix=True, dag_type='cnn',\n",
    "                                   kernel_size=3, width=width,\n",
    "                                   image_width=kwargs.get('default_size', None),\n",
    "                                   image_height=kwargs.get('default_size', None),\n",
    "                                   has_bias=False, depth=depth,\n",
    "                                   name='efficientnet_b0_shared_stats_224')\n",
    "\n",
    "    return nonshared_stats, shared_stats"
   ]
  },
  {
   "cell_type": "markdown",
   "source": [],
   "metadata": {
    "collapsed": false,
    "pycharm": {
     "name": "#%% md\n"
    }
   }
  },
  {
   "cell_type": "code",
   "execution_count": 6,
   "metadata": {},
   "outputs": [
    {
     "name": "stdout",
     "output_type": "stream",
     "text": [
      "Running estimate_efficientnet_v2 with # conv blocks: 91\n",
      "<function add_layer_stats at 0x7f04102bd5e0> predictions unknown\n",
      "<function add_global_pooling_stats at 0x7f04102b4d30> final_global_pool_a0c519ddec5f40d2a580f500cf21ad08 unknown\n",
      "<function add_layer_stats at 0x7f04102bd5e0> k1s1sc192tc1280 bid21_end\n",
      "<function add_elementwise_op_stats at 0x7f04102b43a0> residual_sum_71c82d47b9784be9b25cd51a9c4572b1 unknown\n",
      "<function add_layer_stats at 0x7f04102bd5e0> k1s1#sc1152#tc192 mbconv_project_k3s1#sc192#tc192bid6_rh\n",
      "<function add_elementwise_op_stats at 0x7f04102b43a0> elementwise_multiply_801b4007151546b69998ccc9ed3486a2 unknown\n",
      "<function add_layer_stats at 0x7f04102bd5e0> k1s1#sc48#tc1152 se_expand_mbconv_k3s1#sc192#tc192bid6_rh\n",
      "<function add_layer_stats at 0x7f04102bd5e0> k1s1#sc1152#tc48 se_reduce_mbconv_k3s1#sc192#tc192bid6_rh\n",
      "<function add_global_pooling_stats at 0x7f04102b4d30> mbconv_k3s1#sc192#tc192_se_squeeze_57a1053335014e13bc099fed71c144af unknown\n",
      "<function add_layer_stats at 0x7f04102bd5e0> dwconv_k3s1#sc1152#tc1152 mbconv_dwconv_k3s1#sc192#tc192bid6_rh\n",
      "<function add_layer_stats at 0x7f04102bd5e0> k1s1#sc192#tc1152 mbconv_expand_k3s1#sc192#tc192bid6_rh\n",
      "<function add_elementwise_op_stats at 0x7f04102b43a0> residual_sum_a00f25afcdd84bb9892b0f555b608267 unknown\n",
      "<function add_layer_stats at 0x7f04102bd5e0> k1s1#sc1152#tc192 mbconv_project_k3s1#sc192#tc192bid6_rg\n",
      "<function add_elementwise_op_stats at 0x7f04102b43a0> elementwise_multiply_14d26d40f39c4287a327011b4b3bd0ca unknown\n",
      "<function add_layer_stats at 0x7f04102bd5e0> k1s1#sc48#tc1152 se_expand_mbconv_k3s1#sc192#tc192bid6_rg\n",
      "<function add_layer_stats at 0x7f04102bd5e0> k1s1#sc1152#tc48 se_reduce_mbconv_k3s1#sc192#tc192bid6_rg\n",
      "<function add_global_pooling_stats at 0x7f04102b4d30> mbconv_k3s1#sc192#tc192_se_squeeze_24dbf8fa6fbb4ec7a403d0e54495068d unknown\n",
      "<function add_layer_stats at 0x7f04102bd5e0> dwconv_k3s1#sc1152#tc1152 mbconv_dwconv_k3s1#sc192#tc192bid6_rg\n",
      "<function add_layer_stats at 0x7f04102bd5e0> k1s1#sc192#tc1152 mbconv_expand_k3s1#sc192#tc192bid6_rg\n",
      "<function add_elementwise_op_stats at 0x7f04102b43a0> residual_sum_f9a97bf9cb134af787f190c282f4061c unknown\n",
      "<function add_layer_stats at 0x7f04102bd5e0> k1s1#sc1152#tc192 mbconv_project_k3s1#sc192#tc192bid6_rf\n",
      "<function add_elementwise_op_stats at 0x7f04102b43a0> elementwise_multiply_461d4c850b774d2f8664a95b0e6d24c1 unknown\n",
      "<function add_layer_stats at 0x7f04102bd5e0> k1s1#sc48#tc1152 se_expand_mbconv_k3s1#sc192#tc192bid6_rf\n",
      "<function add_layer_stats at 0x7f04102bd5e0> k1s1#sc1152#tc48 se_reduce_mbconv_k3s1#sc192#tc192bid6_rf\n",
      "<function add_global_pooling_stats at 0x7f04102b4d30> mbconv_k3s1#sc192#tc192_se_squeeze_0d5ec60bc8684be9b3eb854530f2cadd unknown\n",
      "<function add_layer_stats at 0x7f04102bd5e0> dwconv_k3s1#sc1152#tc1152 mbconv_dwconv_k3s1#sc192#tc192bid6_rf\n",
      "<function add_layer_stats at 0x7f04102bd5e0> k1s1#sc192#tc1152 mbconv_expand_k3s1#sc192#tc192bid6_rf\n",
      "<function add_elementwise_op_stats at 0x7f04102b43a0> residual_sum_9c572687e2cc4369a6973e5ed170bbe1 unknown\n",
      "<function add_layer_stats at 0x7f04102bd5e0> k1s1#sc1152#tc192 mbconv_project_k3s1#sc192#tc192bid6_re\n",
      "<function add_elementwise_op_stats at 0x7f04102b43a0> elementwise_multiply_78488e1fd5a947288d97abd4ca238526 unknown\n",
      "<function add_layer_stats at 0x7f04102bd5e0> k1s1#sc48#tc1152 se_expand_mbconv_k3s1#sc192#tc192bid6_re\n",
      "<function add_layer_stats at 0x7f04102bd5e0> k1s1#sc1152#tc48 se_reduce_mbconv_k3s1#sc192#tc192bid6_re\n",
      "<function add_global_pooling_stats at 0x7f04102b4d30> mbconv_k3s1#sc192#tc192_se_squeeze_68599bff095b4388b39bd885d85a863d unknown\n",
      "<function add_layer_stats at 0x7f04102bd5e0> dwconv_k3s1#sc1152#tc1152 mbconv_dwconv_k3s1#sc192#tc192bid6_re\n",
      "<function add_layer_stats at 0x7f04102bd5e0> k1s1#sc192#tc1152 mbconv_expand_k3s1#sc192#tc192bid6_re\n",
      "<function add_elementwise_op_stats at 0x7f04102b43a0> residual_sum_e9d0d41d40da49e698cd896ea7982543 unknown\n",
      "<function add_layer_stats at 0x7f04102bd5e0> k1s1#sc1152#tc192 mbconv_project_k3s1#sc192#tc192bid6_rd\n",
      "<function add_elementwise_op_stats at 0x7f04102b43a0> elementwise_multiply_821a4c8d9e8f4773a190a971f8ce7e87 unknown\n",
      "<function add_layer_stats at 0x7f04102bd5e0> k1s1#sc48#tc1152 se_expand_mbconv_k3s1#sc192#tc192bid6_rd\n",
      "<function add_layer_stats at 0x7f04102bd5e0> k1s1#sc1152#tc48 se_reduce_mbconv_k3s1#sc192#tc192bid6_rd\n",
      "<function add_global_pooling_stats at 0x7f04102b4d30> mbconv_k3s1#sc192#tc192_se_squeeze_eb96ccfdb7e64eaaadcbe9c268434760 unknown\n",
      "<function add_layer_stats at 0x7f04102bd5e0> dwconv_k3s1#sc1152#tc1152 mbconv_dwconv_k3s1#sc192#tc192bid6_rd\n",
      "<function add_layer_stats at 0x7f04102bd5e0> k1s1#sc192#tc1152 mbconv_expand_k3s1#sc192#tc192bid6_rd\n",
      "<function add_elementwise_op_stats at 0x7f04102b43a0> residual_sum_cb94a1eb605c4bc49ead207028f281e4 unknown\n",
      "<function add_layer_stats at 0x7f04102bd5e0> k1s1#sc1152#tc192 mbconv_project_k3s1#sc192#tc192bid6_rc\n",
      "<function add_elementwise_op_stats at 0x7f04102b43a0> elementwise_multiply_faad8c54ff8e450a9d5ba83639e562dd unknown\n",
      "<function add_layer_stats at 0x7f04102bd5e0> k1s1#sc48#tc1152 se_expand_mbconv_k3s1#sc192#tc192bid6_rc\n",
      "<function add_layer_stats at 0x7f04102bd5e0> k1s1#sc1152#tc48 se_reduce_mbconv_k3s1#sc192#tc192bid6_rc\n",
      "<function add_global_pooling_stats at 0x7f04102b4d30> mbconv_k3s1#sc192#tc192_se_squeeze_ec8ab3023245442c8e3d2afdc48af690 unknown\n",
      "<function add_layer_stats at 0x7f04102bd5e0> dwconv_k3s1#sc1152#tc1152 mbconv_dwconv_k3s1#sc192#tc192bid6_rc\n",
      "<function add_layer_stats at 0x7f04102bd5e0> k1s1#sc192#tc1152 mbconv_expand_k3s1#sc192#tc192bid6_rc\n",
      "<function add_elementwise_op_stats at 0x7f04102b43a0> residual_sum_f1e45ace5c8343eaa9376d1f73cf44bb unknown\n",
      "<function add_layer_stats at 0x7f04102bd5e0> k1s1#sc1152#tc192 mbconv_project_k3s1#sc192#tc192bid6_rb\n",
      "<function add_elementwise_op_stats at 0x7f04102b43a0> elementwise_multiply_b419533a1af34ec8bc9f53315c7659d8 unknown\n",
      "<function add_layer_stats at 0x7f04102bd5e0> k1s1#sc48#tc1152 se_expand_mbconv_k3s1#sc192#tc192bid6_rb\n",
      "<function add_layer_stats at 0x7f04102bd5e0> k1s1#sc1152#tc48 se_reduce_mbconv_k3s1#sc192#tc192bid6_rb\n",
      "<function add_global_pooling_stats at 0x7f04102b4d30> mbconv_k3s1#sc192#tc192_se_squeeze_4225dc03e9a5453d8e2421291f1c68e2 unknown\n",
      "<function add_layer_stats at 0x7f04102bd5e0> dwconv_k3s1#sc1152#tc1152 mbconv_dwconv_k3s1#sc192#tc192bid6_rb\n",
      "<function add_layer_stats at 0x7f04102bd5e0> k1s1#sc192#tc1152 mbconv_expand_k3s1#sc192#tc192bid6_rb\n",
      "<function add_layer_stats at 0x7f04102bd5e0> k1s1#sc672#tc192 mbconv_project_k3s2#sc112#tc192bid6_ra\n",
      "<function add_elementwise_op_stats at 0x7f04102b43a0> elementwise_multiply_f1f824755da742f09d46fc5dc0f48fbd unknown\n",
      "<function add_layer_stats at 0x7f04102bd5e0> k1s1#sc28#tc672 se_expand_mbconv_k3s2#sc112#tc192bid6_ra\n",
      "<function add_layer_stats at 0x7f04102bd5e0> k1s1#sc672#tc28 se_reduce_mbconv_k3s2#sc112#tc192bid6_ra\n",
      "<function add_global_pooling_stats at 0x7f04102b4d30> mbconv_k3s2#sc112#tc192_se_squeeze_8f2220bd8b7a4fdaa29d98ef6958fea9 unknown\n",
      "<function add_layer_stats at 0x7f04102bd5e0> dwconv_k3s2#sc672#tc672 mbconv_dwconv_k3s2#sc112#tc192bid6_ra\n",
      "<function add_layer_stats at 0x7f04102bd5e0> k1s1#sc112#tc672 mbconv_expand_k3s2#sc112#tc192bid6_ra\n",
      "<function add_elementwise_op_stats at 0x7f04102b43a0> residual_sum_24620e9c413d4c3ba815da68d7411911 unknown\n",
      "<function add_layer_stats at 0x7f04102bd5e0> k1s1#sc672#tc112 mbconv_project_k3s1#sc112#tc112bid5_re\n",
      "<function add_elementwise_op_stats at 0x7f04102b43a0> elementwise_multiply_9913281c966847839227a4a137146afc unknown\n",
      "<function add_layer_stats at 0x7f04102bd5e0> k1s1#sc28#tc672 se_expand_mbconv_k3s1#sc112#tc112bid5_re\n",
      "<function add_layer_stats at 0x7f04102bd5e0> k1s1#sc672#tc28 se_reduce_mbconv_k3s1#sc112#tc112bid5_re\n",
      "<function add_global_pooling_stats at 0x7f04102b4d30> mbconv_k3s1#sc112#tc112_se_squeeze_6af120163a7d4510b96135356738d4c2 unknown\n",
      "<function add_layer_stats at 0x7f04102bd5e0> dwconv_k3s1#sc672#tc672 mbconv_dwconv_k3s1#sc112#tc112bid5_re\n",
      "<function add_layer_stats at 0x7f04102bd5e0> k1s1#sc112#tc672 mbconv_expand_k3s1#sc112#tc112bid5_re\n",
      "<function add_elementwise_op_stats at 0x7f04102b43a0> residual_sum_97581e1025d044f8946014d616c7f91b unknown\n",
      "<function add_layer_stats at 0x7f04102bd5e0> k1s1#sc672#tc112 mbconv_project_k3s1#sc112#tc112bid5_rd\n",
      "<function add_elementwise_op_stats at 0x7f04102b43a0> elementwise_multiply_681703e7e9364dbf868b6029045880d5 unknown\n",
      "<function add_layer_stats at 0x7f04102bd5e0> k1s1#sc28#tc672 se_expand_mbconv_k3s1#sc112#tc112bid5_rd\n",
      "<function add_layer_stats at 0x7f04102bd5e0> k1s1#sc672#tc28 se_reduce_mbconv_k3s1#sc112#tc112bid5_rd\n",
      "<function add_global_pooling_stats at 0x7f04102b4d30> mbconv_k3s1#sc112#tc112_se_squeeze_e1b656d628134292af537168b18bee00 unknown\n",
      "<function add_layer_stats at 0x7f04102bd5e0> dwconv_k3s1#sc672#tc672 mbconv_dwconv_k3s1#sc112#tc112bid5_rd\n",
      "<function add_layer_stats at 0x7f04102bd5e0> k1s1#sc112#tc672 mbconv_expand_k3s1#sc112#tc112bid5_rd\n",
      "<function add_elementwise_op_stats at 0x7f04102b43a0> residual_sum_1caca65569af4d0f9ea692dadcaddb61 unknown\n",
      "<function add_layer_stats at 0x7f04102bd5e0> k1s1#sc672#tc112 mbconv_project_k3s1#sc112#tc112bid5_rc\n",
      "<function add_elementwise_op_stats at 0x7f04102b43a0> elementwise_multiply_ae64e96cc52d4c9d80abc0907a80105e unknown\n",
      "<function add_layer_stats at 0x7f04102bd5e0> k1s1#sc28#tc672 se_expand_mbconv_k3s1#sc112#tc112bid5_rc\n",
      "<function add_layer_stats at 0x7f04102bd5e0> k1s1#sc672#tc28 se_reduce_mbconv_k3s1#sc112#tc112bid5_rc\n",
      "<function add_global_pooling_stats at 0x7f04102b4d30> mbconv_k3s1#sc112#tc112_se_squeeze_4eaecd4ac5154b4787a5ec94ca7396f7 unknown\n",
      "<function add_layer_stats at 0x7f04102bd5e0> dwconv_k3s1#sc672#tc672 mbconv_dwconv_k3s1#sc112#tc112bid5_rc\n",
      "<function add_layer_stats at 0x7f04102bd5e0> k1s1#sc112#tc672 mbconv_expand_k3s1#sc112#tc112bid5_rc\n",
      "<function add_elementwise_op_stats at 0x7f04102b43a0> residual_sum_49818f5879d247fa94b58dab43f7212b unknown\n",
      "<function add_layer_stats at 0x7f04102bd5e0> k1s1#sc672#tc112 mbconv_project_k3s1#sc112#tc112bid5_rb\n",
      "<function add_elementwise_op_stats at 0x7f04102b43a0> elementwise_multiply_98b9acf68cff46f199f4cd92e0f524d4 unknown\n",
      "<function add_layer_stats at 0x7f04102bd5e0> k1s1#sc28#tc672 se_expand_mbconv_k3s1#sc112#tc112bid5_rb\n",
      "<function add_layer_stats at 0x7f04102bd5e0> k1s1#sc672#tc28 se_reduce_mbconv_k3s1#sc112#tc112bid5_rb\n",
      "<function add_global_pooling_stats at 0x7f04102b4d30> mbconv_k3s1#sc112#tc112_se_squeeze_127301bc27e144288f8cebc89e3df9ae unknown\n",
      "<function add_layer_stats at 0x7f04102bd5e0> dwconv_k3s1#sc672#tc672 mbconv_dwconv_k3s1#sc112#tc112bid5_rb\n",
      "<function add_layer_stats at 0x7f04102bd5e0> k1s1#sc112#tc672 mbconv_expand_k3s1#sc112#tc112bid5_rb\n",
      "<function add_layer_stats at 0x7f04102bd5e0> k1s1#sc576#tc112 mbconv_project_k3s1#sc96#tc112bid5_ra\n",
      "<function add_elementwise_op_stats at 0x7f04102b43a0> elementwise_multiply_309e099a3cdb42f7bb1a3a744dbca73f unknown\n",
      "<function add_layer_stats at 0x7f04102bd5e0> k1s1#sc24#tc576 se_expand_mbconv_k3s1#sc96#tc112bid5_ra\n",
      "<function add_layer_stats at 0x7f04102bd5e0> k1s1#sc576#tc24 se_reduce_mbconv_k3s1#sc96#tc112bid5_ra\n",
      "<function add_global_pooling_stats at 0x7f04102b4d30> mbconv_k3s1#sc96#tc112_se_squeeze_af1e199aa93642f88f701e3405ed5d58 unknown\n",
      "<function add_layer_stats at 0x7f04102bd5e0> dwconv_k3s1#sc576#tc576 mbconv_dwconv_k3s1#sc96#tc112bid5_ra\n",
      "<function add_layer_stats at 0x7f04102bd5e0> k1s1#sc96#tc576 mbconv_expand_k3s1#sc96#tc112bid5_ra\n",
      "<function add_elementwise_op_stats at 0x7f04102b43a0> residual_sum_77c35d9ef27946d08a6e861d8f06ff94 unknown\n",
      "<function add_layer_stats at 0x7f04102bd5e0> k1s1#sc384#tc96 mbconv_project_k3s1#sc96#tc96bid4_rc\n",
      "<function add_elementwise_op_stats at 0x7f04102b43a0> elementwise_multiply_ee7c1776b9e2494b8fa796a26753420a unknown\n",
      "<function add_layer_stats at 0x7f04102bd5e0> k1s1#sc24#tc384 se_expand_mbconv_k3s1#sc96#tc96bid4_rc\n",
      "<function add_layer_stats at 0x7f04102bd5e0> k1s1#sc384#tc24 se_reduce_mbconv_k3s1#sc96#tc96bid4_rc\n",
      "<function add_global_pooling_stats at 0x7f04102b4d30> mbconv_k3s1#sc96#tc96_se_squeeze_d2a6e4cb2e3e4d16bf04a21c0a13649f unknown\n",
      "<function add_layer_stats at 0x7f04102bd5e0> dwconv_k3s1#sc384#tc384 mbconv_dwconv_k3s1#sc96#tc96bid4_rc\n",
      "<function add_layer_stats at 0x7f04102bd5e0> k1s1#sc96#tc384 mbconv_expand_k3s1#sc96#tc96bid4_rc\n",
      "<function add_elementwise_op_stats at 0x7f04102b43a0> residual_sum_10ed8a9acc8448979294430ab667be5c unknown\n",
      "<function add_layer_stats at 0x7f04102bd5e0> k1s1#sc384#tc96 mbconv_project_k3s1#sc96#tc96bid4_rb\n",
      "<function add_elementwise_op_stats at 0x7f04102b43a0> elementwise_multiply_52639306cafc4cce876ab84f9f6de398 unknown\n",
      "<function add_layer_stats at 0x7f04102bd5e0> k1s1#sc24#tc384 se_expand_mbconv_k3s1#sc96#tc96bid4_rb\n",
      "<function add_layer_stats at 0x7f04102bd5e0> k1s1#sc384#tc24 se_reduce_mbconv_k3s1#sc96#tc96bid4_rb\n",
      "<function add_global_pooling_stats at 0x7f04102b4d30> mbconv_k3s1#sc96#tc96_se_squeeze_8b47100df7b34e08999f7b32db3c55b0 unknown\n",
      "<function add_layer_stats at 0x7f04102bd5e0> dwconv_k3s1#sc384#tc384 mbconv_dwconv_k3s1#sc96#tc96bid4_rb\n",
      "<function add_layer_stats at 0x7f04102bd5e0> k1s1#sc96#tc384 mbconv_expand_k3s1#sc96#tc96bid4_rb\n",
      "<function add_layer_stats at 0x7f04102bd5e0> k1s1#sc192#tc96 mbconv_project_k3s2#sc48#tc96bid4_ra\n",
      "<function add_elementwise_op_stats at 0x7f04102b43a0> elementwise_multiply_1a81359479f94b57be66114e3a8797bf unknown\n",
      "<function add_layer_stats at 0x7f04102bd5e0> k1s1#sc12#tc192 se_expand_mbconv_k3s2#sc48#tc96bid4_ra\n",
      "<function add_layer_stats at 0x7f04102bd5e0> k1s1#sc192#tc12 se_reduce_mbconv_k3s2#sc48#tc96bid4_ra\n",
      "<function add_global_pooling_stats at 0x7f04102b4d30> mbconv_k3s2#sc48#tc96_se_squeeze_d81b72ed07624fd9b6844d664450f715 unknown\n",
      "<function add_layer_stats at 0x7f04102bd5e0> dwconv_k3s2#sc192#tc192 mbconv_dwconv_k3s2#sc48#tc96bid4_ra\n",
      "<function add_layer_stats at 0x7f04102bd5e0> k1s1#sc48#tc192 mbconv_expand_k3s2#sc48#tc96bid4_ra\n",
      "<function add_elementwise_op_stats at 0x7f04102b43a0> residual_sum_6bcc7aa8c56a4897a9f38ae8cf4b975d unknown\n",
      "<function add_layer_stats at 0x7f04102bd5e0> k1s1#sc192#tc48 fusedmb_project_k3s1#sc48#tc48bid3_rb\n",
      "<function add_layer_stats at 0x7f04102bd5e0> k1s1#sc48#tc192 fusedmb_expand_k3s1#sc48#tc48bid3_rb\n",
      "<function add_layer_stats at 0x7f04102bd5e0> k1s1#sc128#tc48 fusedmb_project_k3s2#sc32#tc48bid3_ra\n",
      "<function add_layer_stats at 0x7f04102bd5e0> k1s1#sc32#tc128 fusedmb_expand_k3s2#sc32#tc48bid3_ra\n",
      "<function add_elementwise_op_stats at 0x7f04102b43a0> residual_sum_a15197258864422d81ad3754fbe29445 unknown\n",
      "<function add_layer_stats at 0x7f04102bd5e0> k1s1#sc128#tc32 fusedmb_project_k3s1#sc32#tc32bid2_rb\n",
      "<function add_layer_stats at 0x7f04102bd5e0> k1s1#sc32#tc128 fusedmb_expand_k3s1#sc32#tc32bid2_rb\n",
      "<function add_layer_stats at 0x7f04102bd5e0> k1s1#sc64#tc32 fusedmb_project_k3s2#sc16#tc32bid2_ra\n",
      "<function add_layer_stats at 0x7f04102bd5e0> k1s1#sc16#tc64 fusedmb_expand_k3s2#sc16#tc32bid2_ra\n",
      "<function add_layer_stats at 0x7f04102bd5e0> k1s1#sc32#tc16 fusedmb_project_k3s1#sc32#tc16bid1_ra\n",
      "<function add_layer_stats at 0x7f04102bd5e0> k3s2sc3tc32 stem_conv\n",
      "Finished estimate_efficientnet_v2\n",
      "Assuming dag has bias weights as well\n",
      "Assuming dag has bias weights as well\n"
     ]
    }
   ],
   "source": [
    "# Note that this may take ~ 10 minutes\n",
    "all_stats = get_efficientnetv2_stat_summaries(\n",
    "    width_coefficient=1.,\n",
    "    depth_coefficient=1.,\n",
    "    default_size=224,\n",
    "    model_name=\"efficientnetv2-b0\",\n",
    "    use_bias_instead_of_bn=False)"
   ]
  },
  {
   "cell_type": "code",
   "execution_count": 7,
   "metadata": {},
   "outputs": [],
   "source": [
    "nonshared_stats, shared_stats = all_stats"
   ]
  },
  {
   "cell_type": "markdown",
   "source": [
    "### Analysis results for the original V2-b0 model"
   ],
   "metadata": {
    "collapsed": false,
    "pycharm": {
     "name": "#%% md\n"
    }
   }
  },
  {
   "cell_type": "code",
   "execution_count": 8,
   "metadata": {},
   "outputs": [
    {
     "data": {
      "text/plain": "{'shannon': 10.230140154574073,\n 'shannon_estimation': 16.104605059278278,\n 'inf_depth_shannon_approximation': 16.092431409948098,\n 'expected_spread': 746.608413463674,\n 'total_possible_spread': 756.8385536182527,\n 'total_bits': 1478240867.2467568,\n 'total_surprisal_from_probs': 3971232852.476609,\n 'total_surprisal': 3971232852.4333916,\n 'num_inp_features': 0,\n 'expected_spread_estimation': 1078.4757677995863,\n 'total_spread_estimation': 1094.5803728588644,\n 'shannon+expected_spread': 756.838553618248,\n 'expected_spread/total_possible_spread': 0.9864830615384601,\n 'per_param_expected_spread': 0.00010369111969921219,\n 'max_nonshared_entropy': 22.779627991309738,\n 'max-max_shared': 0.0,\n 'max-shannon': 12.549487836735665,\n 'dag_depth': 114,\n 'dag_width': 88,\n 'dag_type': 'cnn',\n 'image_width': 224,\n 'image_height': 224,\n 'has_bias': False,\n 'num_weight_nodes': 7200312,\n 'num_params': 7200312,\n 'num_params_est': 7955376,\n 'max_freq': 662873920091813084999145469405763955355934750981916994040871641574642445586757924121166848486773020222308634775231097702556928196046610270478351140479137167799348108755813763592524669932506480112764232391918150189527859200000,\n 'ignore_suffix': False,\n 'name': 'efficientnet_b0_stats_224',\n 'default_size': 224,\n 'total_surprisal_based_perf_est': 26.276938215749876,\n 'exp_spread_based_perf_est': 26.715765392404396}"
     },
     "execution_count": 8,
     "metadata": {},
     "output_type": "execute_result"
    }
   ],
   "source": [
    "nonshared_stats"
   ]
  },
  {
   "cell_type": "markdown",
   "source": [
    "### Analysis results for the V2-B0-shared model"
   ],
   "metadata": {
    "collapsed": false,
    "pycharm": {
     "name": "#%% md\n"
    }
   }
  },
  {
   "cell_type": "code",
   "execution_count": 9,
   "metadata": {
    "pycharm": {
     "name": "#%%\n"
    }
   },
   "outputs": [
    {
     "data": {
      "text/plain": "{'shannon': 10.230140154568666,\n 'shannon_estimation': 16.104605059278278,\n 'inf_depth_shannon_approximation': 16.092431409948098,\n 'expected_spread': 746.6084134636794,\n 'total_possible_spread': 756.8385536182527,\n 'total_bits': 612269233.7014167,\n 'total_surprisal_from_probs': 1637599871.4425771,\n 'total_surprisal': 1637599871.4106357,\n 'num_inp_features': 0,\n 'expected_spread_estimation': 1078.4757677995863,\n 'total_spread_estimation': 1094.5803728588644,\n 'shannon+expected_spread': 756.838553618248,\n 'expected_spread/total_possible_spread': 0.9864830615384673,\n 'per_param_expected_spread': 0.00025115329175424506,\n 'max_nonshared_entropy': 22.779627991309738,\n 'max-max_shared': 1.2762758395456117,\n 'max-shannon': 12.549487836741072,\n 'dag_depth': 114,\n 'dag_width': 88,\n 'dag_type': 'cnn',\n 'image_width': 224,\n 'image_height': 224,\n 'has_bias': False,\n 'num_weight_nodes': 7200312,\n 'num_params': 2972720,\n 'num_params_est': 7955376,\n 'max_freq': 662873920091813084999145469405763955355934750981916994040871641574642445586757924121166848486773020222308634775231097702556928196046610270478351140479137167799348108755813763592524669932506480112764232391918150189527859200000,\n 'ignore_suffix': True,\n 'name': 'efficientnet_b0_shared_stats_224',\n 'default_size': 224,\n 'total_surprisal_based_perf_est': 24.998934154465193,\n 'exp_spread_based_perf_est': 25.439489552858795}"
     },
     "execution_count": 9,
     "metadata": {},
     "output_type": "execute_result"
    }
   ],
   "source": [
    "shared_stats"
   ]
  }
 ],
 "metadata": {
  "kernelspec": {
   "display_name": "Python 3",
   "language": "python",
   "name": "python3"
  },
  "language_info": {
   "codemirror_mode": {
    "name": "ipython",
    "version": 3
   },
   "file_extension": ".py",
   "mimetype": "text/x-python",
   "name": "python",
   "nbconvert_exporter": "python",
   "pygments_lexer": "ipython3",
   "version": "3.8.13"
  }
 },
 "nbformat": 4,
 "nbformat_minor": 4
}